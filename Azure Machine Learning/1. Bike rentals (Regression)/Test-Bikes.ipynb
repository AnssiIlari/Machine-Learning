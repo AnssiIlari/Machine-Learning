{
  "cells": [
    {
      "cell_type": "code",
      "execution_count": 2,
      "metadata": {
        "editable": true,
        "gather": {
          "logged": 1703695421640
        },
        "run_control": {
          "frozen": false
        }
      },
      "outputs": [
        {
          "name": "stdout",
          "output_type": "stream",
          "text": [
            "Response: {'Results': [475.02643443927593, 372.8059073822655, 127.49601263843255, 224.40157679013868, 74.83163678033738]}\n",
            "Predictions:\n",
            "Day: 1. Predicted rentals: 475\n",
            "Day: 2. Predicted rentals: 373\n",
            "Day: 3. Predicted rentals: 127\n",
            "Day: 4. Predicted rentals: 224\n",
            "Day: 5. Predicted rentals: 75\n"
          ]
        }
      ],
      "source": [
        "endpoint = 'x' #Replace with your endpoint \n",
        "\n",
        "key = 'x' #Replace with your key \n",
        "\n",
        " \n",
        "\n",
        "import json \n",
        "\n",
        "import requests \n",
        "\n",
        " \n",
        "\n",
        "#An array of features based on five-day weather forecast \n",
        "\n",
        "x = [[1,1,2022,1,0,6,0,2,0.344167,0.363625,0.805833,0.160446], \n",
        "\n",
        "    [2,1,2022,1,0,0,0,2,0.363478,0.353739,0.696087,0.248539], \n",
        "\n",
        "    [3,1,2022,1,0,1,1,1,0.196364,0.189405,0.437273,0.248309], \n",
        "\n",
        "    [4,1,2022,1,0,2,1,1,0.2,0.212122,0.590435,0.160296], \n",
        "\n",
        "    [5,1,2022,1,0,3,1,1,0.226957,0.22927,0.436957,0.1869]]\n",
        "\n",
        "    # Convert to the required format\n",
        "formatted_data = [\n",
        "    {\n",
        "        \"day\": day,\n",
        "        \"mnth\": mnth,\n",
        "        \"year\": year,\n",
        "        \"season\": season,\n",
        "        \"holiday\": holiday,\n",
        "        \"weekday\": weekday,\n",
        "        \"workingday\": workingday,\n",
        "        \"weathersit\": weathersit,\n",
        "        \"temp\": temp,\n",
        "        \"atemp\": atemp,\n",
        "        \"hum\": hum,\n",
        "        \"windspeed\": windspeed\n",
        "    } for day, mnth, year, season, holiday, weekday, workingday, weathersit, temp, atemp, hum, windspeed in x\n",
        "] \n",
        "\n",
        " \n",
        "\n",
        "#Convert the array to JSON format \n",
        "\n",
        "input_json = json.dumps({\n",
        "    \"Inputs\": {\n",
        "        \"data\": formatted_data\n",
        "    },\n",
        "    \"GlobalParameters\": 0.0\n",
        "})\n",
        "\n",
        " \n",
        "\n",
        "#Set the content type and authentication for the request \n",
        "\n",
        "headers = {\"Content-Type\":\"application/json\", \n",
        "\n",
        "        \"Authorization\":\"Bearer \" + key} \n",
        "\n",
        "\n",
        "#Send the request \n",
        "\n",
        "response = requests.post(endpoint, input_json, headers=headers)\n",
        "\n",
        "\n",
        "#If we got a valid response, display the predictions \n",
        "\n",
        "# If we got a valid response\n",
        "if response.status_code == 200:\n",
        "    y = response.json()  # Get the JSON response\n",
        "\n",
        "    print(\"Response:\", y)\n",
        "\n",
        "    # Extract predictions using the 'Results' key\n",
        "    print(\"Predictions:\")\n",
        "    for i in range(len(x)):\n",
        "        print(\"Day: {}. Predicted rentals: {}\".format(i + 1, max(0, round(y[\"Results\"][i]))))\n",
        "else:\n",
        "    print(response.text)"
      ]
    }
  ],
  "metadata": {
    "kernel_info": {
      "name": "python310-sdkv2"
    },
    "kernelspec": {
      "display_name": "Python 3.10 - SDK v2",
      "language": "python",
      "name": "python310-sdkv2"
    },
    "language_info": {
      "codemirror_mode": {
        "name": "ipython",
        "version": 3
      },
      "file_extension": ".py",
      "mimetype": "text/x-python",
      "name": "python",
      "nbconvert_exporter": "python",
      "pygments_lexer": "ipython3",
      "version": "3.10.11"
    },
    "microsoft": {
      "host": {
        "AzureML": {
          "notebookHasBeenCompleted": true
        }
      },
      "ms_spell_check": {
        "ms_spell_check_language": "en"
      }
    },
    "nteract": {
      "version": "nteract-front-end@1.0.0"
    }
  },
  "nbformat": 4,
  "nbformat_minor": 2
}
